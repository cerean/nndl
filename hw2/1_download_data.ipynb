{
 "cells": [
  {
   "cell_type": "code",
   "execution_count": null,
   "metadata": {
    "colab": {
     "base_uri": "https://localhost:8080/"
    },
    "id": "wN03V7KtZiET",
    "outputId": "02e3bc7b-411b-41cb-ed34-6b7deedeb06a"
   },
   "outputs": [
    {
     "name": "stdout",
     "output_type": "stream",
     "text": [
      "2.4.1\n"
     ]
    }
   ],
   "source": [
    "import glob\n",
    "import os\n",
    "import numpy as np\n",
    "import keras\n",
    "from keras import layers\n",
    "from urllib import request\n",
    "import tensorflow as tf\n",
    "\n",
    "print(tf.__version__)"
   ]
  },
  {
   "cell_type": "code",
   "execution_count": null,
   "metadata": {
    "colab": {
     "base_uri": "https://localhost:8080/"
    },
    "id": "BnMjRqUnZ1t_",
    "outputId": "9acb02f4-b193-4591-f04e-5878a37dc5e8"
   },
   "outputs": [
    {
     "name": "stdout",
     "output_type": "stream",
     "text": [
      "Drive already mounted at /content/drive; to attempt to forcibly remount, call drive.mount(\"/content/drive\", force_remount=True).\n"
     ]
    }
   ],
   "source": [
    "from google.colab import drive\n",
    "drive.mount('/content/drive')"
   ]
  },
  {
   "cell_type": "code",
   "execution_count": null,
   "metadata": {
    "id": "afkQ-RpvZ3wZ"
   },
   "outputs": [],
   "source": [
    "# # critters (6 classes)\n",
    "# classes = ['ant', 'bee', 'butterfly', 'mosquito', 'scorpion', \n",
    "#            'spider']\n",
    "\n",
    "# # birds (6 classes)\n",
    "# classes = ['bird', 'duck', 'flamingo', 'owl', 'parrot', \n",
    "#            'penguin']\n",
    "\n",
    "# # ocean animals (8 classes)\n",
    "# classes = ['crab', 'dolphin', 'fish', 'lobster', 'octopus', \n",
    "#            'sea turtle', 'shark', 'whale']\n",
    "\n",
    "# # land mammals (22 classes)\n",
    "# classes = ['bear', 'camel', 'cat', 'cow', 'dog', \n",
    "#            'elephant', 'giraffe', 'hedgehog', 'horse', 'kangaroo', \n",
    "#            'lion', 'monkey', 'mouse', 'panda', 'pig', \n",
    "#            'rabbit', 'raccoon', 'rhinoceros', 'sheep', 'squirrel', \n",
    "#            'tiger', 'zebra']\n",
    "\n",
    "# all animals (47 classes)\n",
    "classes = ['ant', 'bat', 'bear', 'bee', 'bird', \n",
    "           'butterfly', 'camel', 'cat', 'cow', 'crab', \n",
    "           'crocodile', 'dog', 'dolphin', 'duck', 'elephant', \n",
    "           'fish', 'flamingo', 'frog', 'giraffe', 'hedgehog', \n",
    "           'horse', 'kangaroo', 'lion', 'lobster', 'monkey', \n",
    "           'mosquito', 'mouse', 'octopus', 'owl', 'panda', \n",
    "           'parrot', 'penguin', 'pig', 'rabbit', 'raccoon', \n",
    "           'rhinoceros', 'scorpion', 'sea%20turtle', 'shark', 'sheep', \n",
    "           'snail', 'snake', 'spider', 'squirrel',  'tiger', \n",
    "           'whale', 'zebra']"
   ]
  },
  {
   "cell_type": "code",
   "execution_count": null,
   "metadata": {
    "id": "gUntpBvjkAxB"
   },
   "outputs": [],
   "source": [
    "api = 'https://storage.googleapis.com/quickdraw_dataset/full/numpy_bitmap/'\n",
    "data_dir = '/content/drive/My Drive/Colab Notebooks/NNDL/HW2/data/'"
   ]
  },
  {
   "cell_type": "code",
   "execution_count": null,
   "metadata": {
    "id": "9-SjElJLkwGE"
   },
   "outputs": [],
   "source": [
    "def download_bitmaps(api=api, classes=classes):\n",
    "    for c in classes:\n",
    "        path = api + c + '.npy'\n",
    "        print(path)\n",
    "        c.replace('%20', '_')\n",
    "        request.urlretrieve(path, data_dir + c + '.npy')"
   ]
  },
  {
   "cell_type": "code",
   "execution_count": null,
   "metadata": {
    "colab": {
     "base_uri": "https://localhost:8080/"
    },
    "id": "yjxptEr0n9dJ",
    "outputId": "2d21a09e-2bc9-48b0-d63b-43562722921a"
   },
   "outputs": [
    {
     "name": "stdout",
     "output_type": "stream",
     "text": [
      "https://storage.googleapis.com/quickdraw_dataset/full/numpy_bitmap/ant.npy\n",
      "https://storage.googleapis.com/quickdraw_dataset/full/numpy_bitmap/bat.npy\n",
      "https://storage.googleapis.com/quickdraw_dataset/full/numpy_bitmap/bear.npy\n",
      "https://storage.googleapis.com/quickdraw_dataset/full/numpy_bitmap/bee.npy\n",
      "https://storage.googleapis.com/quickdraw_dataset/full/numpy_bitmap/bird.npy\n",
      "https://storage.googleapis.com/quickdraw_dataset/full/numpy_bitmap/butterfly.npy\n",
      "https://storage.googleapis.com/quickdraw_dataset/full/numpy_bitmap/camel.npy\n",
      "https://storage.googleapis.com/quickdraw_dataset/full/numpy_bitmap/cat.npy\n",
      "https://storage.googleapis.com/quickdraw_dataset/full/numpy_bitmap/cow.npy\n",
      "https://storage.googleapis.com/quickdraw_dataset/full/numpy_bitmap/crab.npy\n",
      "https://storage.googleapis.com/quickdraw_dataset/full/numpy_bitmap/crocodile.npy\n",
      "https://storage.googleapis.com/quickdraw_dataset/full/numpy_bitmap/dog.npy\n",
      "https://storage.googleapis.com/quickdraw_dataset/full/numpy_bitmap/dolphin.npy\n",
      "https://storage.googleapis.com/quickdraw_dataset/full/numpy_bitmap/duck.npy\n",
      "https://storage.googleapis.com/quickdraw_dataset/full/numpy_bitmap/elephant.npy\n",
      "https://storage.googleapis.com/quickdraw_dataset/full/numpy_bitmap/fish.npy\n",
      "https://storage.googleapis.com/quickdraw_dataset/full/numpy_bitmap/flamingo.npy\n",
      "https://storage.googleapis.com/quickdraw_dataset/full/numpy_bitmap/frog.npy\n",
      "https://storage.googleapis.com/quickdraw_dataset/full/numpy_bitmap/giraffe.npy\n",
      "https://storage.googleapis.com/quickdraw_dataset/full/numpy_bitmap/hedgehog.npy\n",
      "https://storage.googleapis.com/quickdraw_dataset/full/numpy_bitmap/horse.npy\n",
      "https://storage.googleapis.com/quickdraw_dataset/full/numpy_bitmap/kangaroo.npy\n",
      "https://storage.googleapis.com/quickdraw_dataset/full/numpy_bitmap/lion.npy\n",
      "https://storage.googleapis.com/quickdraw_dataset/full/numpy_bitmap/lobster.npy\n",
      "https://storage.googleapis.com/quickdraw_dataset/full/numpy_bitmap/monkey.npy\n",
      "https://storage.googleapis.com/quickdraw_dataset/full/numpy_bitmap/mosquito.npy\n",
      "https://storage.googleapis.com/quickdraw_dataset/full/numpy_bitmap/mouse.npy\n",
      "https://storage.googleapis.com/quickdraw_dataset/full/numpy_bitmap/octopus.npy\n",
      "https://storage.googleapis.com/quickdraw_dataset/full/numpy_bitmap/owl.npy\n",
      "https://storage.googleapis.com/quickdraw_dataset/full/numpy_bitmap/panda.npy\n",
      "https://storage.googleapis.com/quickdraw_dataset/full/numpy_bitmap/parrot.npy\n",
      "https://storage.googleapis.com/quickdraw_dataset/full/numpy_bitmap/penguin.npy\n",
      "https://storage.googleapis.com/quickdraw_dataset/full/numpy_bitmap/pig.npy\n",
      "https://storage.googleapis.com/quickdraw_dataset/full/numpy_bitmap/rabbit.npy\n",
      "https://storage.googleapis.com/quickdraw_dataset/full/numpy_bitmap/raccoon.npy\n",
      "https://storage.googleapis.com/quickdraw_dataset/full/numpy_bitmap/rhinoceros.npy\n",
      "https://storage.googleapis.com/quickdraw_dataset/full/numpy_bitmap/scorpion.npy\n",
      "https://storage.googleapis.com/quickdraw_dataset/full/numpy_bitmap/sea%20turtle.npy\n",
      "https://storage.googleapis.com/quickdraw_dataset/full/numpy_bitmap/shark.npy\n",
      "https://storage.googleapis.com/quickdraw_dataset/full/numpy_bitmap/sheep.npy\n",
      "https://storage.googleapis.com/quickdraw_dataset/full/numpy_bitmap/snail.npy\n",
      "https://storage.googleapis.com/quickdraw_dataset/full/numpy_bitmap/snake.npy\n",
      "https://storage.googleapis.com/quickdraw_dataset/full/numpy_bitmap/spider.npy\n",
      "https://storage.googleapis.com/quickdraw_dataset/full/numpy_bitmap/squirrel.npy\n",
      "https://storage.googleapis.com/quickdraw_dataset/full/numpy_bitmap/tiger.npy\n",
      "https://storage.googleapis.com/quickdraw_dataset/full/numpy_bitmap/whale.npy\n",
      "https://storage.googleapis.com/quickdraw_dataset/full/numpy_bitmap/zebra.npy\n"
     ]
    }
   ],
   "source": [
    "download_bitmaps()"
   ]
  },
  {
   "cell_type": "code",
   "execution_count": null,
   "metadata": {
    "id": "lHoGycR6oBdV"
   },
   "outputs": [],
   "source": []
  }
 ],
 "metadata": {
  "colab": {
   "name": "HW2_download_data.ipynb",
   "provenance": []
  },
  "kernelspec": {
   "display_name": "Python 3",
   "language": "python",
   "name": "python3"
  },
  "language_info": {
   "codemirror_mode": {
    "name": "ipython",
    "version": 3
   },
   "file_extension": ".py",
   "mimetype": "text/x-python",
   "name": "python",
   "nbconvert_exporter": "python",
   "pygments_lexer": "ipython3",
   "version": "3.6.1"
  }
 },
 "nbformat": 4,
 "nbformat_minor": 1
}
