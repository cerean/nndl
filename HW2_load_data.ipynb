{
  "nbformat": 4,
  "nbformat_minor": 0,
  "metadata": {
    "colab": {
      "name": "HW2_load_data.ipynb",
      "provenance": [],
      "authorship_tag": "ABX9TyO6PtIYCKpcAK16p4zosrYV",
      "include_colab_link": true
    },
    "kernelspec": {
      "name": "python3",
      "display_name": "Python 3"
    },
    "language_info": {
      "name": "python"
    }
  },
  "cells": [
    {
      "cell_type": "markdown",
      "metadata": {
        "id": "view-in-github",
        "colab_type": "text"
      },
      "source": [
        "<a href=\"https://colab.research.google.com/github/cerean/nndl/blob/main/HW2_load_data.ipynb\" target=\"_parent\"><img src=\"https://colab.research.google.com/assets/colab-badge.svg\" alt=\"Open In Colab\"/></a>"
      ]
    },
    {
      "cell_type": "code",
      "metadata": {
        "colab": {
          "base_uri": "https://localhost:8080/"
        },
        "id": "DBqP-fLmp98z",
        "outputId": "12a0bdfe-ac8c-4d53-8072-a1efc377fb0e"
      },
      "source": [
        "import glob\n",
        "import os\n",
        "import numpy as np\n",
        "import keras\n",
        "from keras import layers\n",
        "from urllib import request\n",
        "import tensorflow as tf\n",
        "import matplotlib.pyplot as plt\n",
        "%matplotlib inline\n",
        "\n",
        "print(tf.__version__)"
      ],
      "execution_count": null,
      "outputs": [
        {
          "output_type": "stream",
          "text": [
            "2.4.1\n"
          ],
          "name": "stdout"
        }
      ]
    },
    {
      "cell_type": "code",
      "metadata": {
        "colab": {
          "base_uri": "https://localhost:8080/"
        },
        "id": "KzeRykK4p-k2",
        "outputId": "1f2139f6-abda-4ecf-cb5b-39e211a73cfe"
      },
      "source": [
        "from google.colab import drive\n",
        "drive.mount('/content/drive')"
      ],
      "execution_count": null,
      "outputs": [
        {
          "output_type": "stream",
          "text": [
            "Drive already mounted at /content/drive; to attempt to forcibly remount, call drive.mount(\"/content/drive\", force_remount=True).\n"
          ],
          "name": "stdout"
        }
      ]
    },
    {
      "cell_type": "code",
      "metadata": {
        "id": "0ty51cAEql_U"
      },
      "source": [
        "# # critters (6 classes)\n",
        "# classes = ['ant', 'bee', 'butterfly', 'mosquito', 'scorpion', \n",
        "#            'spider']\n",
        "\n",
        "# # birds (6 classes)\n",
        "# classes = ['bird', 'duck', 'flamingo', 'owl', 'parrot', \n",
        "#            'penguin']\n",
        "\n",
        "# # ocean animals (8 classes)\n",
        "# classes = ['crab', 'dolphin', 'fish', 'lobster', 'octopus', \n",
        "#            'sea turtle', 'shark', 'whale']\n",
        "\n",
        "# # land mammals (22 classes)\n",
        "# classes = ['bear', 'camel', 'cat', 'cow', 'dog', \n",
        "#            'elephant', 'giraffe', 'hedgehog', 'horse', 'kangaroo', \n",
        "#            'lion', 'monkey', 'mouse', 'panda', 'pig', \n",
        "#            'rabbit', 'raccoon', 'rhinoceros', 'sheep', 'squirrel', \n",
        "#            'tiger', 'zebra']\n",
        "\n",
        "# all animals (47 classes)\n",
        "classes = ['ant', 'bat', 'bear', 'bee', 'bird', \n",
        "           'butterfly', 'camel', 'cat', 'cow', 'crab', \n",
        "           'crocodile', 'dog', 'dolphin', 'duck', 'elephant', \n",
        "           'fish', 'flamingo', 'frog', 'giraffe', 'hedgehog', \n",
        "           'horse', 'kangaroo', 'lion', 'lobster', 'monkey', \n",
        "           'mosquito', 'mouse', 'octopus', 'owl', 'panda', \n",
        "           'parrot', 'penguin', 'pig', 'rabbit', 'raccoon', \n",
        "           'rhinoceros', 'scorpion', 'sea%20turtle', 'shark', 'sheep', \n",
        "           'snail', 'snake', 'spider', 'squirrel',  'tiger', \n",
        "           'whale', 'zebra']"
      ],
      "execution_count": null,
      "outputs": []
    },
    {
      "cell_type": "code",
      "metadata": {
        "id": "TPNRp6NEoYW6"
      },
      "source": [
        "data_dir = '/content/drive/My Drive/Colab Notebooks/NNDL/HW2/data/'\n",
        "class_sample_max = 5000"
      ],
      "execution_count": null,
      "outputs": []
    },
    {
      "cell_type": "code",
      "metadata": {
        "id": "LMDM24ajoK3N"
      },
      "source": [
        "def load_bitmaps(data_dir=data_dir, class_sample_max=class_sample_max):\n",
        "    class_files = sorted(glob.glob(os.path.join(data_dir, '*.npy')))\n",
        "  \n",
        "    X = np.empty([0,784])\n",
        "    y = np.empty([0])\n",
        "  \n",
        "    for id, class_file in enumerate(class_files):\n",
        "        loaded_data = np.load(class_file)\n",
        "        loaded_data = loaded_data[0:class_sample_max, :]\n",
        "        labels = np.full(loaded_data.shape[0],id)\n",
        "        \n",
        "        X = np.concatenate((X, loaded_data), axis = 0)\n",
        "        y = np.append(y, labels)\n",
        "\n",
        "    return X, y"
      ],
      "execution_count": null,
      "outputs": []
    },
    {
      "cell_type": "code",
      "metadata": {
        "colab": {
          "base_uri": "https://localhost:8080/"
        },
        "id": "MVVaXVQpp5wx",
        "outputId": "c932bd6d-aa96-4eaa-e3cb-7cd73d6dc17a"
      },
      "source": [
        "X, y = load_bitmaps()\n",
        "print(X.shape)\n",
        "print(y.shape)\n",
        "print(y[-class_sample_max-5:-class_sample_max+5])"
      ],
      "execution_count": null,
      "outputs": [
        {
          "output_type": "stream",
          "text": [
            "(235000, 784)\n",
            "(235000,)\n",
            "[45. 45. 45. 45. 45. 46. 46. 46. 46. 46.]\n"
          ],
          "name": "stdout"
        }
      ]
    },
    {
      "cell_type": "code",
      "metadata": {
        "colab": {
          "base_uri": "https://localhost:8080/",
          "height": 282
        },
        "id": "-WSyCq4lrIwH",
        "outputId": "13cbec13-dccb-432b-82f6-05eebe69ce07"
      },
      "source": [
        "id = 20000\n",
        "plt.imshow(X[id].reshape(28,28)) \n",
        "print(classes[int(y[id].item())])"
      ],
      "execution_count": null,
      "outputs": [
        {
          "output_type": "stream",
          "text": [
            "bird\n"
          ],
          "name": "stdout"
        },
        {
          "output_type": "display_data",
          "data": {
            "image/png": "[encoded data removed]",
            "text/plain": [
              "<Figure size 432x288 with 1 Axes>"
            ]
          },
          "metadata": {
            "tags": [],
            "needs_background": "light"
          }
        }
      ]
    },
    {
      "cell_type": "code",
      "metadata": {
        "colab": {
          "base_uri": "https://localhost:8080/"
        },
        "id": "-e_rn1u6sZER",
        "outputId": "666675a4-0cbf-461d-bceb-f612d036f52a"
      },
      "source": [
        "X[20000]"
      ],
      "execution_count": null,
      "outputs": [
        {
          "output_type": "execute_result",
          "data": {
            "text/plain": [
              "array([  0.,   0.,   0.,   0.,   0.,   0.,   0.,   0.,   0.,   0.,   0.,\n",
              "         0.,   0.,   0.,   0.,   0.,   0.,   0.,   0.,   0.,   0.,   0.,\n",
              "         0.,   0.,   0.,   0.,   0.,   0.,   0.,   0.,   0.,   0.,   0.,\n",
              "         0.,   0.,   0.,   0.,   0.,   0.,   0.,   0.,   0.,   0.,   0.,\n",
              "         0.,   0.,   0.,   0.,   0.,   0.,   0.,   0.,   0.,   0.,   0.,\n",
              "         0.,   0.,   0.,   0.,   0.,   0.,   0.,   0.,   0.,   0.,   0.,\n",
              "         0.,   0.,   0.,   0.,   0.,   0.,   0.,   0.,   0.,   0.,   0.,\n",
              "         0.,   0.,   0.,   0.,   0.,   0.,   0.,   0.,   0.,   0.,   0.,\n",
              "         0.,   0.,   0.,   0.,   0.,   0.,   0.,   0.,   0.,   0.,   0.,\n",
              "         0.,   0.,   0.,   0.,   0.,   0.,   0.,   0.,   0.,   0.,   0.,\n",
              "         0.,   0.,   0.,   0.,   0.,   0.,   0.,   0.,   0.,   0.,   0.,\n",
              "         0.,   0.,   0.,   0.,   0.,   0.,   0.,   0.,   0.,   0.,   0.,\n",
              "         0.,   0.,   0.,   0.,   0.,   0.,   0.,   0.,   0.,   0.,   0.,\n",
              "         0.,   0.,   0.,   0.,   0.,   0.,   0.,   0.,   0.,   0.,   0.,\n",
              "         0.,   0.,   0.,   0.,   0.,   0.,   0.,   0.,   0.,   0.,   0.,\n",
              "         0.,   0.,   0.,   0.,   0.,   0.,   0.,   0.,   0.,   0.,   0.,\n",
              "         0.,   0.,   0.,   0.,   0.,   0.,   0.,   0.,   0.,   0.,   0.,\n",
              "         0.,   0.,   0.,   0.,   0.,   0.,   0.,   0.,   0.,   0.,   0.,\n",
              "         0.,   0.,   0.,   0.,   0.,   0.,   0.,   0.,   0.,   0.,   0.,\n",
              "         0.,   0.,   0.,   0.,   0.,   0.,   0.,   0.,   0.,   0.,   0.,\n",
              "         0.,   0.,   0.,   0.,   0.,   0.,   0.,   0.,   0.,   0.,   0.,\n",
              "         0.,   0.,   0.,   0.,   0.,   0.,   0.,   0.,   0.,   0.,   0.,\n",
              "         0.,   0.,   0.,   0.,   0.,   0.,   0.,   0.,   0.,   0.,   0.,\n",
              "         0.,   0.,   0.,   0.,   0.,   0.,   0.,   0.,   0.,   0.,   0.,\n",
              "         0.,   0.,   0.,   0.,   0.,   0.,   0.,   0.,   0.,   0.,   0.,\n",
              "         0.,   0.,   0.,   0.,   0.,   0.,   0.,   4., 109., 210., 231.,\n",
              "       249., 155.,   0.,   0.,   0.,   0.,   0.,   0.,   0.,   0.,   0.,\n",
              "         0.,   0.,   0.,   0.,   0.,   7.,  29.,  34.,  42.,   3.,   0.,\n",
              "         0.,   1., 164., 255., 186., 145., 161., 255., 122.,   0.,   0.,\n",
              "         0.,   0.,   0.,   0.,   0.,   0.,   0.,   5.,  60., 126., 192.,\n",
              "       248., 255., 255., 255., 101.,   0.,   0.,  91., 255., 114.,   0.,\n",
              "         0.,   0., 155., 254.,  93.,   0.,   0.,   0.,   0.,   0.,  10.,\n",
              "       109., 184., 244., 255., 251., 197., 131.,  96.,  85.,  79.,  10.,\n",
              "         0.,   0.,  29.,  92.,   0.,   0.,   0.,   0.,   5., 181., 254.,\n",
              "       137.,   3.,   0.,   6., 115., 233., 254., 205., 139.,  73.,  12.,\n",
              "         0.,   0.,   0.,   0.,   0.,   0.,   0.,   0.,   0.,   0.,   0.,\n",
              "         0.,   0.,   0.,   0.,   4., 140., 255., 163.,  14., 188., 254.,\n",
              "       178.,  51.,   0.,   0.,   0.,   0.,   0.,   0.,   0.,   0.,   0.,\n",
              "         0.,   0.,   0.,   0.,   0.,   0.,   0.,   0.,   0.,   0.,   0.,\n",
              "         0., 166., 231., 208., 247.,  84.,   0.,   0.,   0.,   0.,   0.,\n",
              "         0.,   0.,   0.,   0.,   0.,   0.,   0.,   0.,   0.,   0.,   0.,\n",
              "         0.,   0.,   0.,   0.,   0.,   0.,   0., 146., 255., 237.,  61.,\n",
              "         0.,   0.,   0.,   0.,   0.,   0.,   0.,   0.,   0.,   0.,   0.,\n",
              "         0.,   0.,   0.,   0.,   0.,   0.,   0.,   0.,   0.,   0.,   0.,\n",
              "         0.,   0., 107., 220.,  41.,   0.,   0.,   0.,   0.,   0.,   0.,\n",
              "         0.,   0.,   0.,   0.,   0.,   0.,   0.,   0.,   0.,   0.,   0.,\n",
              "         0.,   0.,   0.,   0.,   0.,   0.,   0.,   0.,   0.,   0.,   0.,\n",
              "         0.,   0.,   0.,   0.,   0.,   0.,   0.,   0.,   0.,   0.,   0.,\n",
              "         0.,   0.,   0.,   0.,   0.,   0.,   0.,   0.,   0.,   0.,   0.,\n",
              "         0.,   0.,   0.,   0.,   0.,   0.,   0.,   0.,   0.,   0.,   0.,\n",
              "         0.,   0.,   0.,   0.,   0.,   0.,   0.,   0.,   0.,   0.,   0.,\n",
              "         0.,   0.,   0.,   0.,   0.,   0.,   0.,   0.,   0.,   0.,   0.,\n",
              "         0.,   0.,   0.,   0.,   0.,   0.,   0.,   0.,   0.,   0.,   0.,\n",
              "         0.,   0.,   0.,   0.,   0.,   0.,   0.,   0.,   0.,   0.,   0.,\n",
              "         0.,   0.,   0.,   0.,   0.,   0.,   0.,   0.,   0.,   0.,   0.,\n",
              "         0.,   0.,   0.,   0.,   0.,   0.,   0.,   0.,   0.,   0.,   0.,\n",
              "         0.,   0.,   0.,   0.,   0.,   0.,   0.,   0.,   0.,   0.,   0.,\n",
              "         0.,   0.,   0.,   0.,   0.,   0.,   0.,   0.,   0.,   0.,   0.,\n",
              "         0.,   0.,   0.,   0.,   0.,   0.,   0.,   0.,   0.,   0.,   0.,\n",
              "         0.,   0.,   0.,   0.,   0.,   0.,   0.,   0.,   0.,   0.,   0.,\n",
              "         0.,   0.,   0.,   0.,   0.,   0.,   0.,   0.,   0.,   0.,   0.,\n",
              "         0.,   0.,   0.,   0.,   0.,   0.,   0.,   0.,   0.,   0.,   0.,\n",
              "         0.,   0.,   0.,   0.,   0.,   0.,   0.,   0.,   0.,   0.,   0.,\n",
              "         0.,   0.,   0.,   0.,   0.,   0.,   0.,   0.,   0.,   0.,   0.,\n",
              "         0.,   0.,   0.,   0.,   0.,   0.,   0.,   0.,   0.,   0.,   0.,\n",
              "         0.,   0.,   0.,   0.,   0.,   0.,   0.,   0.,   0.,   0.,   0.,\n",
              "         0.,   0.,   0.,   0.,   0.,   0.,   0.,   0.,   0.,   0.,   0.,\n",
              "         0.,   0.,   0.,   0.,   0.,   0.,   0.,   0.,   0.,   0.,   0.,\n",
              "         0.,   0.,   0.,   0.,   0.,   0.,   0.,   0.,   0.,   0.,   0.,\n",
              "         0.,   0.,   0.,   0.,   0.,   0.,   0.,   0.,   0.,   0.,   0.,\n",
              "         0.,   0.,   0.,   0.,   0.,   0.,   0.,   0.,   0.,   0.,   0.,\n",
              "         0.,   0.,   0.])"
            ]
          },
          "metadata": {
            "tags": []
          },
          "execution_count": 8
        }
      ]
    },
    {
      "cell_type": "code",
      "metadata": {
        "id": "777ykXBsvWLG"
      },
      "source": [
        ""
      ],
      "execution_count": null,
      "outputs": []
    }
  ]
}